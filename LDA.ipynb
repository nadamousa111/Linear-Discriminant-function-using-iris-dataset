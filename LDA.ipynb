{
  "nbformat": 4,
  "nbformat_minor": 0,
  "metadata": {
    "colab": {
      "name": "LDA_final.ipynb",
      "provenance": [],
      "collapsed_sections": []
    },
    "kernelspec": {
      "name": "python3",
      "display_name": "Python 3"
    },
    "language_info": {
      "name": "python"
    }
  },
  "cells": [
    {
      "cell_type": "code",
      "execution_count": 1,
      "metadata": {
        "id": "JWUxj6oii50L"
      },
      "outputs": [],
      "source": [
        "from sklearn import datasets\n",
        "import numpy as np\n",
        "from random import random"
      ]
    },
    {
      "cell_type": "markdown",
      "source": [
        "#Loading the dataset"
      ],
      "metadata": {
        "id": "VlzV04t-BJXW"
      }
    },
    {
      "cell_type": "code",
      "source": [
        "iris = datasets.load_iris()"
      ],
      "metadata": {
        "id": "rKva6KuWA_50"
      },
      "execution_count": 2,
      "outputs": []
    },
    {
      "cell_type": "code",
      "source": [
        "print(iris['data'].shape)\n",
        "print(iris)"
      ],
      "metadata": {
        "id": "NF1AOZeTjL3z"
      },
      "execution_count": null,
      "outputs": []
    },
    {
      "cell_type": "code",
      "source": [
        "def add1tofeature(input):\n",
        "  x = np.zeros((input.shape[0],(input.shape[1])+1))\n",
        "  for i in range(input.shape[0]):\n",
        "    x[i]=np.append(input[i],[1])\n",
        "  return x"
      ],
      "metadata": {
        "id": "5EwFUWzxtq4f"
      },
      "execution_count": 4,
      "outputs": []
    },
    {
      "cell_type": "code",
      "source": [
        "data = iris.data\n",
        "target = iris.target\n",
        "\n",
        "c1_train=add1tofeature(data[:42,:])\n",
        "c1_test=add1tofeature(data[42:50,:])\n",
        "c1_train_target = target[:42]\n",
        "c1_test_target = target[42:50]\n",
        "\n",
        "c2_train=add1tofeature(data[50:92,:])\n",
        "c2_test=add1tofeature(data[92:100,:])\n",
        "c2_train_target = target[50:92]\n",
        "c2_test_target = target[92:100]\n",
        "\n",
        "c3_train=add1tofeature(data[100:142,:])\n",
        "c3_test=add1tofeature(data[142:150,:])\n",
        "c3_train_target = target[100:142]\n",
        "c3_test_target = target[142:150]\n",
        "\n",
        "print(c1_train.shape,c1_test.shape)\n",
        "print(c2_train.shape,c2_test.shape)\n",
        "print(c3_train.shape,c3_test.shape)\n",
        "print(data.shape)"
      ],
      "metadata": {
        "id": "Qe6Mt0mqnmRS",
        "colab": {
          "base_uri": "https://localhost:8080/"
        },
        "outputId": "506e4383-9bb3-43f8-f66f-6f660e3c2b9b"
      },
      "execution_count": 5,
      "outputs": [
        {
          "output_type": "stream",
          "name": "stdout",
          "text": [
            "(42, 5) (8, 5)\n",
            "(42, 5) (8, 5)\n",
            "(42, 5) (8, 5)\n",
            "(150, 4)\n"
          ]
        }
      ]
    },
    {
      "cell_type": "markdown",
      "source": [
        "# **Built-in LDA**"
      ],
      "metadata": {
        "id": "NsAb-HvpqHKo"
      }
    },
    {
      "cell_type": "code",
      "source": [
        "from sklearn.discriminant_analysis import LinearDiscriminantAnalysis\n",
        "\n",
        "lda = LinearDiscriminantAnalysis(n_components=2)\n",
        "x_r = lda.fit(data,target).transform(data)\n",
        "y = lda.predict(data)\n",
        "print(lda.score(data,target)*100)"
      ],
      "metadata": {
        "id": "ZEutskuPqFeh",
        "colab": {
          "base_uri": "https://localhost:8080/"
        },
        "outputId": "0f9219a4-1035-4461-d3f9-b43da9fb8c7f"
      },
      "execution_count": 6,
      "outputs": [
        {
          "output_type": "stream",
          "name": "stdout",
          "text": [
            "98.0\n"
          ]
        }
      ]
    },
    {
      "cell_type": "code",
      "source": [
        "class perceptron:\n",
        "  def __init__(self,input_size,output_size):\n",
        "    self.weight = np.random.rand(output_size,input_size)\n",
        "\n",
        "  def activation(self,x):\n",
        "    return (1/(1+np.exp(-x)))\n",
        "\n",
        "  def forward(self,input,net): \n",
        "    self.output = np.dot(input,self.weight[net])\n",
        "    self.output = self.activation(self.output)\n",
        "    return self.output\n",
        "\n",
        "  def backward(self,input,output,e,error):\n",
        "    weight = self.weight - e * np.dot(error,input)\n",
        "    return weight\n",
        "\n",
        "  def LDA(self,w,input):\n",
        "    wT = w.transpose()\n",
        "    return np.dot(wT,input)"
      ],
      "metadata": {
        "id": "B0gWL6T-8KoC"
      },
      "execution_count": 7,
      "outputs": []
    },
    {
      "cell_type": "code",
      "source": [
        "def training_data(data,target,size,nets,maxIter,lr):\n",
        "  for x in range(data.shape[0]):\n",
        "    for k in range(size):\n",
        "      for i in range(nets):\n",
        "        op=perceptron.forward(data[x][k],i)\n",
        "        delta = np.dot((target[x][k] - op),(1 - op))\n",
        "        delta  = np.dot(delta,op)\n",
        "        for j in range(maxIter):\n",
        "          updatedWeight=perceptron.backward(data[x][k],op,lr,target[x][k])\n",
        "  return updatedWeight\n",
        "\n",
        "def testing_data(data,target,weight):\n",
        "  prediction = np.zeros((data.shape[0],data.shape[1]))\n",
        "  for i in range(data.shape[0]):\n",
        "    for j in range(data.shape[1]):\n",
        "      d = np.zeros(3)\n",
        "      for k in range(weight.shape[0]):\n",
        "        d[k]=perceptron.LDA(weight[k],data[i][j])\n",
        "      print(d)\n",
        "      index = d.argmax()\n",
        "      prediction[i][j]=index  \n",
        "  return prediction\n",
        "\n",
        "def accuracy(prediction,label):\n",
        "  counter=0\n",
        "  error=0\n",
        "  for i in range(prediction.shape[0]):\n",
        "    for j in range(prediction.shape[1]):\n",
        "      if prediction[i][j]==label[i][j]:\n",
        "        counter+=1\n",
        "      else:\n",
        "        error+=1\n",
        "  return (counter/(label.shape[0]*label.shape[1]))*100"
      ],
      "metadata": {
        "id": "1zDt3ZjekZuq"
      },
      "execution_count": 8,
      "outputs": []
    },
    {
      "cell_type": "code",
      "source": [
        "nets = 3\n",
        "maxIter = 1000\n",
        "learningRate = 0.001\n",
        "output=np.zeros(nets)\n",
        "perceptron = perceptron(c1_train.shape[1],nets)\n",
        "#training data\n",
        "data = np.array([c1_train,c2_train,c3_train])\n",
        "target = np.array([c1_train_target,c2_train_target,c3_train_target])\n",
        "w=training_data(data,target,data.shape[1],nets,maxIter,learningRate)\n",
        "print(w)"
      ],
      "metadata": {
        "id": "eC-Cd4xI7kL6",
        "colab": {
          "base_uri": "https://localhost:8080/"
        },
        "outputId": "dedd53a3-173c-4a19-a9db-36ed8e4cb220"
      },
      "execution_count": 9,
      "outputs": [
        {
          "output_type": "stream",
          "name": "stdout",
          "text": [
            "[[ 0.68360789  0.65477711  0.88794302  0.05431714  0.05696232]\n",
            " [ 0.59524737  0.28072254  0.56138102  0.82876933  0.54570513]\n",
            " [-0.00630555  0.73319797  0.78712359  0.44671702  0.59078654]]\n"
          ]
        }
      ]
    },
    {
      "cell_type": "markdown",
      "source": [
        "## **Testing Data**"
      ],
      "metadata": {
        "id": "2HWwsBrWESbU"
      }
    },
    {
      "cell_type": "code",
      "source": [
        "test_data = np.array([c1_test,c2_test,c3_test])\n",
        "target_data = np.array([c1_test_target,c2_test_target,c3_test_target])\n",
        "prediction = testing_data(test_data,target_data,w)\n",
        "ac = accuracy(prediction,target_data)\n",
        "print(\"The accuracy is \" ,ac, \"%\")"
      ],
      "metadata": {
        "id": "_I0d2Hd25OB_"
      },
      "execution_count": null,
      "outputs": []
    }
  ]
}